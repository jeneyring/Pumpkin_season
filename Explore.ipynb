{
 "cells": [
  {
   "cell_type": "code",
   "execution_count": 1,
   "id": "8d91f4b7",
   "metadata": {},
   "outputs": [],
   "source": [
    "import pandas as pd\n",
    "import numpy as np\n",
    "import matplotlib.pyplot as plt\n",
    "import seaborn as sns\n",
    "\n",
    "import wrangle\n",
    "%matplotlib inline"
   ]
  },
  {
   "cell_type": "code",
   "execution_count": 2,
   "id": "4f6e683b",
   "metadata": {},
   "outputs": [],
   "source": [
    "#calling in dataframe:\n",
    "df=wrangle.creating_pumpkin_patch()"
   ]
  },
  {
   "cell_type": "code",
   "execution_count": 3,
   "id": "3ecd6b35",
   "metadata": {},
   "outputs": [
    {
     "data": {
      "text/html": [
       "<div>\n",
       "<style scoped>\n",
       "    .dataframe tbody tr th:only-of-type {\n",
       "        vertical-align: middle;\n",
       "    }\n",
       "\n",
       "    .dataframe tbody tr th {\n",
       "        vertical-align: top;\n",
       "    }\n",
       "\n",
       "    .dataframe thead th {\n",
       "        text-align: right;\n",
       "    }\n",
       "</style>\n",
       "<table border=\"1\" class=\"dataframe\">\n",
       "  <thead>\n",
       "    <tr style=\"text-align: right;\">\n",
       "      <th></th>\n",
       "      <th>Date</th>\n",
       "      <th>Region</th>\n",
       "      <th>Class</th>\n",
       "      <th>Commodity</th>\n",
       "      <th>Variety</th>\n",
       "      <th>Unit</th>\n",
       "      <th>Number of Stores</th>\n",
       "      <th>Weighted Avg Price</th>\n",
       "      <th>Low Price</th>\n",
       "      <th>High Price</th>\n",
       "      <th>Last Year\\n Stores</th>\n",
       "      <th>Last Year\\n Weighted Avg Price</th>\n",
       "    </tr>\n",
       "  </thead>\n",
       "  <tbody>\n",
       "    <tr>\n",
       "      <th>0</th>\n",
       "      <td>2018-08-03</td>\n",
       "      <td>NATIONAL</td>\n",
       "      <td>VEGETABLES</td>\n",
       "      <td>PUMPKINS</td>\n",
       "      <td>UNKNOWN</td>\n",
       "      <td>per pound</td>\n",
       "      <td>46</td>\n",
       "      <td>0.49</td>\n",
       "      <td>0.00</td>\n",
       "      <td>0.00</td>\n",
       "      <td>nan</td>\n",
       "      <td>0.00</td>\n",
       "    </tr>\n",
       "    <tr>\n",
       "      <th>1</th>\n",
       "      <td>2018-08-03</td>\n",
       "      <td>SOUTHEAST U.S.</td>\n",
       "      <td>VEGETABLES</td>\n",
       "      <td>PUMPKINS</td>\n",
       "      <td>UNKNOWN</td>\n",
       "      <td>per pound</td>\n",
       "      <td>46</td>\n",
       "      <td>0.49</td>\n",
       "      <td>0.49</td>\n",
       "      <td>0.49</td>\n",
       "      <td>nan</td>\n",
       "      <td>0.00</td>\n",
       "    </tr>\n",
       "    <tr>\n",
       "      <th>2</th>\n",
       "      <td>2018-08-31</td>\n",
       "      <td>NATIONAL</td>\n",
       "      <td>VEGETABLES</td>\n",
       "      <td>PUMPKINS</td>\n",
       "      <td>UNKNOWN</td>\n",
       "      <td>each</td>\n",
       "      <td>15</td>\n",
       "      <td>5.00</td>\n",
       "      <td>0.00</td>\n",
       "      <td>0.00</td>\n",
       "      <td>15</td>\n",
       "      <td>4.99</td>\n",
       "    </tr>\n",
       "    <tr>\n",
       "      <th>3</th>\n",
       "      <td>2018-08-31</td>\n",
       "      <td>NATIONAL</td>\n",
       "      <td>VEGETABLES</td>\n",
       "      <td>PUMPKINS</td>\n",
       "      <td>PIE TYPE</td>\n",
       "      <td>per pound</td>\n",
       "      <td>36</td>\n",
       "      <td>0.69</td>\n",
       "      <td>0.00</td>\n",
       "      <td>0.00</td>\n",
       "      <td>nan</td>\n",
       "      <td>0.00</td>\n",
       "    </tr>\n",
       "    <tr>\n",
       "      <th>4</th>\n",
       "      <td>2018-08-31</td>\n",
       "      <td>MIDWEST U.S.</td>\n",
       "      <td>VEGETABLES</td>\n",
       "      <td>PUMPKINS</td>\n",
       "      <td>UNKNOWN</td>\n",
       "      <td>each</td>\n",
       "      <td>15</td>\n",
       "      <td>5.00</td>\n",
       "      <td>5.00</td>\n",
       "      <td>5.00</td>\n",
       "      <td>15</td>\n",
       "      <td>4.99</td>\n",
       "    </tr>\n",
       "    <tr>\n",
       "      <th>...</th>\n",
       "      <td>...</td>\n",
       "      <td>...</td>\n",
       "      <td>...</td>\n",
       "      <td>...</td>\n",
       "      <td>...</td>\n",
       "      <td>...</td>\n",
       "      <td>...</td>\n",
       "      <td>...</td>\n",
       "      <td>...</td>\n",
       "      <td>...</td>\n",
       "      <td>...</td>\n",
       "      <td>...</td>\n",
       "    </tr>\n",
       "    <tr>\n",
       "      <th>560</th>\n",
       "      <td>2021-12-03</td>\n",
       "      <td>SOUTHWEST U.S.</td>\n",
       "      <td>VEGETABLES</td>\n",
       "      <td>PUMPKINS</td>\n",
       "      <td>PIE TYPE</td>\n",
       "      <td>per pound</td>\n",
       "      <td>113</td>\n",
       "      <td>1.49</td>\n",
       "      <td>1.49</td>\n",
       "      <td>1.49</td>\n",
       "      <td>nan</td>\n",
       "      <td>0.00</td>\n",
       "    </tr>\n",
       "    <tr>\n",
       "      <th>562</th>\n",
       "      <td>2021-12-24</td>\n",
       "      <td>NORTHEAST U.S.</td>\n",
       "      <td>VEGETABLES</td>\n",
       "      <td>PUMPKINS</td>\n",
       "      <td>PIE TYPE</td>\n",
       "      <td>per pound</td>\n",
       "      <td>175</td>\n",
       "      <td>0.99</td>\n",
       "      <td>0.99</td>\n",
       "      <td>0.99</td>\n",
       "      <td>nan</td>\n",
       "      <td>0.00</td>\n",
       "    </tr>\n",
       "    <tr>\n",
       "      <th>561</th>\n",
       "      <td>2021-12-24</td>\n",
       "      <td>NATIONAL</td>\n",
       "      <td>VEGETABLES</td>\n",
       "      <td>PUMPKINS</td>\n",
       "      <td>PIE TYPE</td>\n",
       "      <td>per pound</td>\n",
       "      <td>175</td>\n",
       "      <td>0.99</td>\n",
       "      <td>0.00</td>\n",
       "      <td>0.00</td>\n",
       "      <td>nan</td>\n",
       "      <td>0.00</td>\n",
       "    </tr>\n",
       "    <tr>\n",
       "      <th>563</th>\n",
       "      <td>2022-01-07</td>\n",
       "      <td>NATIONAL</td>\n",
       "      <td>VEGETABLES</td>\n",
       "      <td>PUMPKINS</td>\n",
       "      <td>PIE TYPE</td>\n",
       "      <td>per pound</td>\n",
       "      <td>175</td>\n",
       "      <td>1.29</td>\n",
       "      <td>0.00</td>\n",
       "      <td>0.00</td>\n",
       "      <td>nan</td>\n",
       "      <td>0.00</td>\n",
       "    </tr>\n",
       "    <tr>\n",
       "      <th>564</th>\n",
       "      <td>2022-01-07</td>\n",
       "      <td>NORTHEAST U.S.</td>\n",
       "      <td>VEGETABLES</td>\n",
       "      <td>PUMPKINS</td>\n",
       "      <td>PIE TYPE</td>\n",
       "      <td>per pound</td>\n",
       "      <td>175</td>\n",
       "      <td>1.29</td>\n",
       "      <td>1.29</td>\n",
       "      <td>1.29</td>\n",
       "      <td>nan</td>\n",
       "      <td>0.00</td>\n",
       "    </tr>\n",
       "  </tbody>\n",
       "</table>\n",
       "<p>1166 rows × 12 columns</p>\n",
       "</div>"
      ],
      "text/plain": [
       "          Date          Region       Class Commodity   Variety       Unit  \\\n",
       "0   2018-08-03        NATIONAL  VEGETABLES  PUMPKINS   UNKNOWN  per pound   \n",
       "1   2018-08-03  SOUTHEAST U.S.  VEGETABLES  PUMPKINS   UNKNOWN  per pound   \n",
       "2   2018-08-31        NATIONAL  VEGETABLES  PUMPKINS   UNKNOWN       each   \n",
       "3   2018-08-31        NATIONAL  VEGETABLES  PUMPKINS  PIE TYPE  per pound   \n",
       "4   2018-08-31    MIDWEST U.S.  VEGETABLES  PUMPKINS   UNKNOWN       each   \n",
       "..         ...             ...         ...       ...       ...        ...   \n",
       "560 2021-12-03  SOUTHWEST U.S.  VEGETABLES  PUMPKINS  PIE TYPE  per pound   \n",
       "562 2021-12-24  NORTHEAST U.S.  VEGETABLES  PUMPKINS  PIE TYPE  per pound   \n",
       "561 2021-12-24        NATIONAL  VEGETABLES  PUMPKINS  PIE TYPE  per pound   \n",
       "563 2022-01-07        NATIONAL  VEGETABLES  PUMPKINS  PIE TYPE  per pound   \n",
       "564 2022-01-07  NORTHEAST U.S.  VEGETABLES  PUMPKINS  PIE TYPE  per pound   \n",
       "\n",
       "     Number of Stores  Weighted Avg Price  Low Price  High Price  \\\n",
       "0                  46                0.49       0.00        0.00   \n",
       "1                  46                0.49       0.49        0.49   \n",
       "2                  15                5.00       0.00        0.00   \n",
       "3                  36                0.69       0.00        0.00   \n",
       "4                  15                5.00       5.00        5.00   \n",
       "..                ...                 ...        ...         ...   \n",
       "560               113                1.49       1.49        1.49   \n",
       "562               175                0.99       0.99        0.99   \n",
       "561               175                0.99       0.00        0.00   \n",
       "563               175                1.29       0.00        0.00   \n",
       "564               175                1.29       1.29        1.29   \n",
       "\n",
       "    Last Year\\n Stores  Last Year\\n Weighted Avg Price  \n",
       "0                  nan                            0.00  \n",
       "1                  nan                            0.00  \n",
       "2                   15                            4.99  \n",
       "3                  nan                            0.00  \n",
       "4                   15                            4.99  \n",
       "..                 ...                             ...  \n",
       "560                nan                            0.00  \n",
       "562                nan                            0.00  \n",
       "561                nan                            0.00  \n",
       "563                nan                            0.00  \n",
       "564                nan                            0.00  \n",
       "\n",
       "[1166 rows x 12 columns]"
      ]
     },
     "execution_count": 3,
     "metadata": {},
     "output_type": "execute_result"
    }
   ],
   "source": [
    "#cleaning up:\n",
    "df = wrangle.main_clean(df)\n",
    "df"
   ]
  },
  {
   "cell_type": "code",
   "execution_count": 4,
   "id": "0059c3f3",
   "metadata": {},
   "outputs": [
    {
     "data": {
      "text/plain": [
       "nan     334\n",
       "6        19\n",
       "15       15\n",
       "11       15\n",
       "220      15\n",
       "       ... \n",
       "353       1\n",
       "1192      1\n",
       "405       1\n",
       "150       1\n",
       "191       1\n",
       "Name: Last Year\\n Stores, Length: 439, dtype: int64"
      ]
     },
     "execution_count": 4,
     "metadata": {},
     "output_type": "execute_result"
    }
   ],
   "source": [
    "df[\"Last Year\\n Stores\"].value_counts()"
   ]
  },
  {
   "cell_type": "code",
   "execution_count": 5,
   "id": "c895beae",
   "metadata": {},
   "outputs": [],
   "source": [
    "#I've decided to just drop the last year number of stores:\n",
    "df = df.drop(columns=[\"Last Year\\n Stores\"])\n"
   ]
  },
  {
   "cell_type": "code",
   "execution_count": 6,
   "id": "0a1ee668",
   "metadata": {},
   "outputs": [
    {
     "data": {
      "text/html": [
       "<div>\n",
       "<style scoped>\n",
       "    .dataframe tbody tr th:only-of-type {\n",
       "        vertical-align: middle;\n",
       "    }\n",
       "\n",
       "    .dataframe tbody tr th {\n",
       "        vertical-align: top;\n",
       "    }\n",
       "\n",
       "    .dataframe thead th {\n",
       "        text-align: right;\n",
       "    }\n",
       "</style>\n",
       "<table border=\"1\" class=\"dataframe\">\n",
       "  <thead>\n",
       "    <tr style=\"text-align: right;\">\n",
       "      <th></th>\n",
       "      <th>Date</th>\n",
       "      <th>Region</th>\n",
       "      <th>Class</th>\n",
       "      <th>Commodity</th>\n",
       "      <th>Variety</th>\n",
       "      <th>Unit</th>\n",
       "      <th>Number of Stores</th>\n",
       "      <th>Weighted Avg Price</th>\n",
       "      <th>Low Price</th>\n",
       "      <th>High Price</th>\n",
       "      <th>Last Year\\n Weighted Avg Price</th>\n",
       "    </tr>\n",
       "  </thead>\n",
       "  <tbody>\n",
       "    <tr>\n",
       "      <th>0</th>\n",
       "      <td>2018-08-03</td>\n",
       "      <td>NATIONAL</td>\n",
       "      <td>VEGETABLES</td>\n",
       "      <td>PUMPKINS</td>\n",
       "      <td>UNKNOWN</td>\n",
       "      <td>per pound</td>\n",
       "      <td>46</td>\n",
       "      <td>0.49</td>\n",
       "      <td>0.00</td>\n",
       "      <td>0.00</td>\n",
       "      <td>0.00</td>\n",
       "    </tr>\n",
       "    <tr>\n",
       "      <th>1</th>\n",
       "      <td>2018-08-03</td>\n",
       "      <td>SOUTHEAST U.S.</td>\n",
       "      <td>VEGETABLES</td>\n",
       "      <td>PUMPKINS</td>\n",
       "      <td>UNKNOWN</td>\n",
       "      <td>per pound</td>\n",
       "      <td>46</td>\n",
       "      <td>0.49</td>\n",
       "      <td>0.49</td>\n",
       "      <td>0.49</td>\n",
       "      <td>0.00</td>\n",
       "    </tr>\n",
       "    <tr>\n",
       "      <th>2</th>\n",
       "      <td>2018-08-31</td>\n",
       "      <td>NATIONAL</td>\n",
       "      <td>VEGETABLES</td>\n",
       "      <td>PUMPKINS</td>\n",
       "      <td>UNKNOWN</td>\n",
       "      <td>each</td>\n",
       "      <td>15</td>\n",
       "      <td>5.00</td>\n",
       "      <td>0.00</td>\n",
       "      <td>0.00</td>\n",
       "      <td>4.99</td>\n",
       "    </tr>\n",
       "    <tr>\n",
       "      <th>3</th>\n",
       "      <td>2018-08-31</td>\n",
       "      <td>NATIONAL</td>\n",
       "      <td>VEGETABLES</td>\n",
       "      <td>PUMPKINS</td>\n",
       "      <td>PIE TYPE</td>\n",
       "      <td>per pound</td>\n",
       "      <td>36</td>\n",
       "      <td>0.69</td>\n",
       "      <td>0.00</td>\n",
       "      <td>0.00</td>\n",
       "      <td>0.00</td>\n",
       "    </tr>\n",
       "    <tr>\n",
       "      <th>4</th>\n",
       "      <td>2018-08-31</td>\n",
       "      <td>MIDWEST U.S.</td>\n",
       "      <td>VEGETABLES</td>\n",
       "      <td>PUMPKINS</td>\n",
       "      <td>UNKNOWN</td>\n",
       "      <td>each</td>\n",
       "      <td>15</td>\n",
       "      <td>5.00</td>\n",
       "      <td>5.00</td>\n",
       "      <td>5.00</td>\n",
       "      <td>4.99</td>\n",
       "    </tr>\n",
       "  </tbody>\n",
       "</table>\n",
       "</div>"
      ],
      "text/plain": [
       "        Date          Region       Class Commodity   Variety       Unit  \\\n",
       "0 2018-08-03        NATIONAL  VEGETABLES  PUMPKINS   UNKNOWN  per pound   \n",
       "1 2018-08-03  SOUTHEAST U.S.  VEGETABLES  PUMPKINS   UNKNOWN  per pound   \n",
       "2 2018-08-31        NATIONAL  VEGETABLES  PUMPKINS   UNKNOWN       each   \n",
       "3 2018-08-31        NATIONAL  VEGETABLES  PUMPKINS  PIE TYPE  per pound   \n",
       "4 2018-08-31    MIDWEST U.S.  VEGETABLES  PUMPKINS   UNKNOWN       each   \n",
       "\n",
       "   Number of Stores  Weighted Avg Price  Low Price  High Price  \\\n",
       "0                46                0.49       0.00        0.00   \n",
       "1                46                0.49       0.49        0.49   \n",
       "2                15                5.00       0.00        0.00   \n",
       "3                36                0.69       0.00        0.00   \n",
       "4                15                5.00       5.00        5.00   \n",
       "\n",
       "   Last Year\\n Weighted Avg Price  \n",
       "0                            0.00  \n",
       "1                            0.00  \n",
       "2                            4.99  \n",
       "3                            0.00  \n",
       "4                            4.99  "
      ]
     },
     "execution_count": 6,
     "metadata": {},
     "output_type": "execute_result"
    }
   ],
   "source": [
    "#looking at the dataframe:\n",
    "df.head()"
   ]
  },
  {
   "cell_type": "markdown",
   "id": "b9e2aeea",
   "metadata": {},
   "source": [
    "## Statistics of dataset:"
   ]
  },
  {
   "cell_type": "code",
   "execution_count": 20,
   "id": "adfdf457",
   "metadata": {},
   "outputs": [
    {
     "name": "stdout",
     "output_type": "stream",
     "text": [
      "          Region       Class Commodity   Variety       Unit\n",
      "count       1166        1166      1166      1166       1166\n",
      "unique         9           1         1         3          2\n",
      "top     NATIONAL  VEGETABLES  PUMPKINS  PIE TYPE  per pound\n",
      "freq         282        1166      1166       555        585\n",
      "************************************************************\n",
      "       Number of Stores  Weighted Avg Price    Low Price   High Price  \\\n",
      "count       1166.000000         1166.000000  1166.000000  1166.000000   \n",
      "mean         306.962264            1.951089     1.333019     1.779014   \n",
      "std          634.703509            1.678385     1.572308     2.096156   \n",
      "min            1.000000            0.200000     0.000000     0.000000   \n",
      "25%           21.000000            0.810000     0.190000     0.290000   \n",
      "50%           97.000000            1.290000     0.880000     0.990000   \n",
      "75%          295.500000            2.500000     1.990000     2.500000   \n",
      "max         7925.000000           11.990000    11.990000    11.990000   \n",
      "\n",
      "       Last Year\\n Weighted Avg Price  \n",
      "count                     1166.000000  \n",
      "mean                         1.421578  \n",
      "std                          1.613485  \n",
      "min                          0.000000  \n",
      "25%                          0.000000  \n",
      "50%                          0.910000  \n",
      "75%                          2.335000  \n",
      "max                          9.990000  \n",
      "************************************************************\n",
      "<class 'pandas.core.frame.DataFrame'>\n",
      "DatetimeIndex: 1166 entries, 2018-08-03 to 2022-01-07\n",
      "Data columns (total 10 columns):\n",
      " #   Column                         Non-Null Count  Dtype  \n",
      "---  ------                         --------------  -----  \n",
      " 0   Region                         1166 non-null   object \n",
      " 1   Class                          1166 non-null   object \n",
      " 2   Commodity                      1166 non-null   object \n",
      " 3   Variety                        1166 non-null   object \n",
      " 4   Unit                           1166 non-null   object \n",
      " 5   Number of Stores               1166 non-null   int64  \n",
      " 6   Weighted Avg Price             1166 non-null   float64\n",
      " 7   Low Price                      1166 non-null   float64\n",
      " 8   High Price                     1166 non-null   float64\n",
      " 9   Last Year\n",
      " Weighted Avg Price  1166 non-null   float64\n",
      "dtypes: float64(4), int64(1), object(5)\n",
      "memory usage: 132.5+ KB\n",
      "None\n"
     ]
    }
   ],
   "source": [
    "#looking at the overview of statistics of dataset:\n",
    "print(df.describe(include=\"object\"))\n",
    "print(\"*\"*60)\n",
    "print(df.describe())\n",
    "print(\"*\"*60)\n",
    "print(df.info())"
   ]
  },
  {
   "cell_type": "code",
   "execution_count": null,
   "id": "9a37306d",
   "metadata": {},
   "outputs": [],
   "source": [
    "### Observations:\n",
    "- There are 1166 rows with 11 columns\n",
    "- The minimum average price of pumpkins is $0.20 and maximum is $11.99"
   ]
  },
  {
   "cell_type": "markdown",
   "id": "d8c893a9",
   "metadata": {},
   "source": [
    "## Univariate Exploration:\n",
    "- Taking a look at the shape of the data."
   ]
  },
  {
   "cell_type": "code",
   "execution_count": 7,
   "id": "e983381c",
   "metadata": {},
   "outputs": [],
   "source": [
    "def univariate(df):\n",
    "    '''\n",
    "    This function creates univariate histograms of all pumpkin variables that are numeric.\n",
    "\n",
    "    '''\n",
    "    df.hist(bins = 30, figsize = (20, 20), color= 'orange')"
   ]
  },
  {
   "cell_type": "code",
   "execution_count": 8,
   "id": "e3b6ac47",
   "metadata": {
    "scrolled": false
   },
   "outputs": [
    {
     "data": {
      "image/png": "[encoded data removed]",
      "text/plain": [
       "<Figure size 1440x1440 with 6 Axes>"
      ]
     },
     "metadata": {
      "needs_background": "light"
     },
     "output_type": "display_data"
    }
   ],
   "source": [
    "univariate(df)"
   ]
  },
  {
   "cell_type": "markdown",
   "id": "900efb4c",
   "metadata": {},
   "source": [
    "### Take aways:\n",
    "Most of the variables (beyond date) are right-skewed."
   ]
  },
  {
   "cell_type": "markdown",
   "id": "9b3eaff9",
   "metadata": {},
   "source": [
    "______________________"
   ]
  },
  {
   "cell_type": "markdown",
   "id": "350bbbbc",
   "metadata": {},
   "source": [
    "## Set Index and look at Time series of data:\n",
    "Because of the seasonality of pumpkins (growth times and when pumpkin-flavored things seeme to come out, I know that in any sort of prediction method (such as analyzing each states pumpkin growth and sales to predict future results) this will be more of a time-series project. <br><br>\n",
    "Let's see now what that looks like by setting the index as date."
   ]
  },
  {
   "cell_type": "code",
   "execution_count": 9,
   "id": "b60018d5",
   "metadata": {},
   "outputs": [
    {
     "data": {
      "text/plain": [
       "DatetimeIndex(['2018-08-03', '2018-08-03', '2018-08-31', '2018-08-31',\n",
       "               '2018-08-31', '2018-08-31', '2018-09-07', '2018-09-07',\n",
       "               '2018-09-07', '2018-09-07',\n",
       "               ...\n",
       "               '2021-11-26', '2021-11-26', '2021-11-26', '2021-12-03',\n",
       "               '2021-12-03', '2021-12-03', '2021-12-24', '2021-12-24',\n",
       "               '2022-01-07', '2022-01-07'],\n",
       "              dtype='datetime64[ns]', name='Date', length=1166, freq=None)"
      ]
     },
     "execution_count": 9,
     "metadata": {},
     "output_type": "execute_result"
    }
   ],
   "source": [
    "df = df.set_index('Date')\n",
    "df.index"
   ]
  },
  {
   "cell_type": "code",
   "execution_count": 10,
   "id": "8565e451",
   "metadata": {},
   "outputs": [],
   "source": [
    "#seeing the time series of how many stores pumpkins sold to during which months/years\n",
    "y = df[\"Number of Stores\"]"
   ]
  },
  {
   "cell_type": "code",
   "execution_count": 11,
   "id": "cd6709e8",
   "metadata": {},
   "outputs": [
    {
     "data": {
      "image/png": "[encoded data removed]",
      "text/plain": [
       "<Figure size 1080x432 with 1 Axes>"
      ]
     },
     "metadata": {
      "needs_background": "light"
     },
     "output_type": "display_data"
    }
   ],
   "source": [
    "y.plot(figsize=(15, 6))\n",
    "plt.show()"
   ]
  },
  {
   "cell_type": "code",
   "execution_count": 12,
   "id": "c5c12826",
   "metadata": {},
   "outputs": [
    {
     "data": {
      "text/plain": [
       "Date\n",
       "2020-09-04      9\n",
       "2020-09-04    123\n",
       "2020-09-04      9\n",
       "2020-09-04    123\n",
       "2020-09-11    206\n",
       "             ... \n",
       "2020-11-27      7\n",
       "2020-11-27    123\n",
       "2020-11-27      7\n",
       "2020-12-04      7\n",
       "2020-12-04      7\n",
       "Name: Number of Stores, Length: 260, dtype: int64"
      ]
     },
     "execution_count": 12,
     "metadata": {},
     "output_type": "execute_result"
    }
   ],
   "source": [
    "#looking at just 2020 stores that sold pumpkins using count:\n",
    "y['2020']"
   ]
  },
  {
   "cell_type": "code",
   "execution_count": 13,
   "id": "ba724d92",
   "metadata": {},
   "outputs": [],
   "source": [
    "#looking at weighted avg price over time:\n",
    "y = df[\"Weighted Avg Price\"]"
   ]
  },
  {
   "cell_type": "code",
   "execution_count": 14,
   "id": "34b20cc6",
   "metadata": {},
   "outputs": [
    {
     "data": {
      "image/png": "[encoded data removed]",
      "text/plain": [
       "<Figure size 1080x432 with 1 Axes>"
      ]
     },
     "metadata": {
      "needs_background": "light"
     },
     "output_type": "display_data"
    }
   ],
   "source": [
    "y.plot(figsize=(15, 6))\n",
    "plt.show()"
   ]
  },
  {
   "cell_type": "markdown",
   "id": "da195d22",
   "metadata": {},
   "source": [
    "### Takeaways:\n",
    "-It is interesting to note the sloping difference of price and pumpkin availability during months in 2021 that wouldn't otherwise be in previous years."
   ]
  },
  {
   "cell_type": "code",
   "execution_count": 15,
   "id": "50abf99c",
   "metadata": {},
   "outputs": [
    {
     "data": {
      "text/plain": [
       "Date\n",
       "2021-03-26    0.49\n",
       "2021-03-26    0.49\n",
       "2021-05-21    1.69\n",
       "2021-05-21    1.69\n",
       "2021-09-03    6.99\n",
       "              ... \n",
       "2021-12-03    1.49\n",
       "2021-12-24    0.99\n",
       "2021-12-24    0.99\n",
       "2022-01-07    1.29\n",
       "2022-01-07    1.29\n",
       "Name: Weighted Avg Price, Length: 319, dtype: float64"
      ]
     },
     "execution_count": 15,
     "metadata": {},
     "output_type": "execute_result"
    }
   ],
   "source": [
    "#looking at just 2021 pricing:\n",
    "y['2021':]"
   ]
  },
  {
   "cell_type": "code",
   "execution_count": 16,
   "id": "c15033de",
   "metadata": {},
   "outputs": [
    {
     "data": {
      "text/plain": [
       "11.99"
      ]
     },
     "execution_count": 16,
     "metadata": {},
     "output_type": "execute_result"
    }
   ],
   "source": [
    "#I'm wondering what that spike date was....\n",
    "y['2021':].max()"
   ]
  },
  {
   "cell_type": "code",
   "execution_count": 17,
   "id": "fd10867f",
   "metadata": {},
   "outputs": [
    {
     "data": {
      "text/html": [
       "<div>\n",
       "<style scoped>\n",
       "    .dataframe tbody tr th:only-of-type {\n",
       "        vertical-align: middle;\n",
       "    }\n",
       "\n",
       "    .dataframe tbody tr th {\n",
       "        vertical-align: top;\n",
       "    }\n",
       "\n",
       "    .dataframe thead th {\n",
       "        text-align: right;\n",
       "    }\n",
       "</style>\n",
       "<table border=\"1\" class=\"dataframe\">\n",
       "  <thead>\n",
       "    <tr style=\"text-align: right;\">\n",
       "      <th></th>\n",
       "      <th>Region</th>\n",
       "      <th>Class</th>\n",
       "      <th>Commodity</th>\n",
       "      <th>Variety</th>\n",
       "      <th>Unit</th>\n",
       "      <th>Number of Stores</th>\n",
       "      <th>Weighted Avg Price</th>\n",
       "      <th>Low Price</th>\n",
       "      <th>High Price</th>\n",
       "      <th>Last Year\\n Weighted Avg Price</th>\n",
       "    </tr>\n",
       "    <tr>\n",
       "      <th>Date</th>\n",
       "      <th></th>\n",
       "      <th></th>\n",
       "      <th></th>\n",
       "      <th></th>\n",
       "      <th></th>\n",
       "      <th></th>\n",
       "      <th></th>\n",
       "      <th></th>\n",
       "      <th></th>\n",
       "      <th></th>\n",
       "    </tr>\n",
       "  </thead>\n",
       "  <tbody>\n",
       "    <tr>\n",
       "      <th>2021-10-08</th>\n",
       "      <td>HAWAII</td>\n",
       "      <td>VEGETABLES</td>\n",
       "      <td>PUMPKINS</td>\n",
       "      <td>UNKNOWN</td>\n",
       "      <td>each</td>\n",
       "      <td>6</td>\n",
       "      <td>11.99</td>\n",
       "      <td>11.99</td>\n",
       "      <td>11.99</td>\n",
       "      <td>9.99</td>\n",
       "    </tr>\n",
       "  </tbody>\n",
       "</table>\n",
       "</div>"
      ],
      "text/plain": [
       "            Region       Class Commodity  Variety  Unit  Number of Stores  \\\n",
       "Date                                                                        \n",
       "2021-10-08  HAWAII  VEGETABLES  PUMPKINS  UNKNOWN  each                 6   \n",
       "\n",
       "            Weighted Avg Price  Low Price  High Price  \\\n",
       "Date                                                    \n",
       "2021-10-08               11.99      11.99       11.99   \n",
       "\n",
       "            Last Year\\n Weighted Avg Price  \n",
       "Date                                        \n",
       "2021-10-08                            9.99  "
      ]
     },
     "execution_count": 17,
     "metadata": {},
     "output_type": "execute_result"
    }
   ],
   "source": [
    "df[df['Weighted Avg Price'] == 11.99]"
   ]
  },
  {
   "cell_type": "markdown",
   "id": "48ba444c",
   "metadata": {},
   "source": [
    "### Takeaways:"
   ]
  },
  {
   "cell_type": "markdown",
   "id": "692d8d42",
   "metadata": {},
   "source": [
    "- This is showing me that I will need to further bin pricing based on types of units (each vs per pound), since\n",
    "this would skew the data when looking as a whole rather than within the same pricing group."
   ]
  },
  {
   "cell_type": "code",
   "execution_count": null,
   "id": "27f6ebf5",
   "metadata": {},
   "outputs": [],
   "source": []
  }
 ],
 "metadata": {
  "kernelspec": {
   "display_name": "Python 3 (ipykernel)",
   "language": "python",
   "name": "python3"
  },
  "language_info": {
   "codemirror_mode": {
    "name": "ipython",
    "version": 3
   },
   "file_extension": ".py",
   "mimetype": "text/x-python",
   "name": "python",
   "nbconvert_exporter": "python",
   "pygments_lexer": "ipython3",
   "version": "3.9.7"
  }
 },
 "nbformat": 4,
 "nbformat_minor": 5
}
